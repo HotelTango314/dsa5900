{
 "cells": [
  {
   "cell_type": "code",
   "execution_count": 87,
   "id": "537ea9dd-cd5c-43ba-8eb5-293d3887b9d5",
   "metadata": {},
   "outputs": [],
   "source": [
    "import pandas as pd\n",
    "import numpy as np\n",
    "from matplotlib import pyplot as plt"
   ]
  },
  {
   "cell_type": "markdown",
   "id": "64cdfd36-44e4-46d8-a5f6-87e121e3319a",
   "metadata": {},
   "source": [
    "Setup the 2006 dataframe"
   ]
  },
  {
   "cell_type": "code",
   "execution_count": 35,
   "id": "4162f55d-f4d5-476e-9cc3-a0c7024b59c6",
   "metadata": {},
   "outputs": [],
   "source": [
    "six = pd.read_table(\"NSDUH_2006_Tab.tsv\",sep='\\t', header = 0, index_col = 0, low_memory=False)"
   ]
  },
  {
   "cell_type": "markdown",
   "id": "81d5973f-c96b-482d-bcc1-0e426d6dd081",
   "metadata": {},
   "source": [
    "Create the 2006 Class Variable"
   ]
  },
  {
   "cell_type": "code",
   "execution_count": 36,
   "id": "ea4cf836-0b58-4a28-8f87-5b4a7c732894",
   "metadata": {},
   "outputs": [],
   "source": [
    "six[\"COMB\"] = (\n",
    "    six[\"PROCODNP\"]\n",
    "    +six[\"OXYCODP2\"]\n",
    "    +six[\"HYDCODOP\"]\n",
    "    +six[\"TRAMADP\"])\n",
    "six[\"CLASS\"] = 0\n",
    "six.loc[(six[\"COMB\"]>0) & (six[\"ANLYR\"]==1),\"CLASS\"]=1\n",
    "six.loc[(six[\"HERYR\"]==1) | (six[\"OXYYR\"]==1),\"CLASS\"]=1"
   ]
  },
  {
   "cell_type": "markdown",
   "id": "fb6e2a10-88fc-444d-abe3-cdb5bd369208",
   "metadata": {},
   "source": [
    "Select the fields to study 2006 current co-incident drug use"
   ]
  },
  {
   "cell_type": "code",
   "execution_count": 37,
   "id": "73de55ad-12d4-4a0c-913d-780eab288bc3",
   "metadata": {},
   "outputs": [],
   "source": [
    "\n",
    "drug_use2006 = [\"TOBYR\",\"ALCYR\",\"MRJYR\",\"COCYR\",\"CRKYR\",\"HALYR\",\"INHYR\",\"TRQYR\",\"STMYR\",\n",
    "            \"MTHYR\",\"SEDYR\",\"PSYYR2\",\"CLASS\"]"
   ]
  },
  {
   "cell_type": "markdown",
   "id": "1b6d70f5-c316-47a3-b701-218e27d8d2af",
   "metadata": {},
   "source": [
    "Select the fields to study 2006 Demographic effects"
   ]
  },
  {
   "cell_type": "code",
   "execution_count": 38,
   "id": "aed84e33-28ae-429b-9141-5c6f5c79613d",
   "metadata": {},
   "outputs": [],
   "source": [
    "#demogr = [\"\"]"
   ]
  },
  {
   "cell_type": "code",
   "execution_count": 39,
   "id": "627a7f41-6f61-42f5-a34d-f33e8b654f77",
   "metadata": {},
   "outputs": [],
   "source": [
    "six_otherdrug = six.loc[six[\"CATAG3\"]==4,drug_use2006]"
   ]
  },
  {
   "cell_type": "code",
   "execution_count": 40,
   "id": "f8f31849-b017-43aa-b01d-a4362fb01a87",
   "metadata": {},
   "outputs": [
    {
     "data": {
      "text/html": [
       "<div>\n",
       "<style scoped>\n",
       "    .dataframe tbody tr th:only-of-type {\n",
       "        vertical-align: middle;\n",
       "    }\n",
       "\n",
       "    .dataframe tbody tr th {\n",
       "        vertical-align: top;\n",
       "    }\n",
       "\n",
       "    .dataframe thead th {\n",
       "        text-align: right;\n",
       "    }\n",
       "</style>\n",
       "<table border=\"1\" class=\"dataframe\">\n",
       "  <thead>\n",
       "    <tr style=\"text-align: right;\">\n",
       "      <th></th>\n",
       "      <th>TOBYR</th>\n",
       "      <th>ALCYR</th>\n",
       "      <th>MRJYR</th>\n",
       "      <th>COCYR</th>\n",
       "      <th>CRKYR</th>\n",
       "      <th>HALYR</th>\n",
       "      <th>INHYR</th>\n",
       "      <th>TRQYR</th>\n",
       "      <th>STMYR</th>\n",
       "      <th>MTHYR</th>\n",
       "      <th>SEDYR</th>\n",
       "      <th>PSYYR2</th>\n",
       "      <th>CLASS</th>\n",
       "    </tr>\n",
       "    <tr>\n",
       "      <th>QUESTID2</th>\n",
       "      <th></th>\n",
       "      <th></th>\n",
       "      <th></th>\n",
       "      <th></th>\n",
       "      <th></th>\n",
       "      <th></th>\n",
       "      <th></th>\n",
       "      <th></th>\n",
       "      <th></th>\n",
       "      <th></th>\n",
       "      <th></th>\n",
       "      <th></th>\n",
       "      <th></th>\n",
       "    </tr>\n",
       "  </thead>\n",
       "  <tbody>\n",
       "    <tr>\n",
       "      <th>76775602</th>\n",
       "      <td>0</td>\n",
       "      <td>0</td>\n",
       "      <td>0</td>\n",
       "      <td>0</td>\n",
       "      <td>0</td>\n",
       "      <td>0</td>\n",
       "      <td>0</td>\n",
       "      <td>0</td>\n",
       "      <td>0</td>\n",
       "      <td>0</td>\n",
       "      <td>0</td>\n",
       "      <td>1</td>\n",
       "      <td>1</td>\n",
       "    </tr>\n",
       "    <tr>\n",
       "      <th>79748602</th>\n",
       "      <td>0</td>\n",
       "      <td>1</td>\n",
       "      <td>0</td>\n",
       "      <td>0</td>\n",
       "      <td>0</td>\n",
       "      <td>0</td>\n",
       "      <td>0</td>\n",
       "      <td>0</td>\n",
       "      <td>0</td>\n",
       "      <td>0</td>\n",
       "      <td>0</td>\n",
       "      <td>0</td>\n",
       "      <td>0</td>\n",
       "    </tr>\n",
       "    <tr>\n",
       "      <th>66270602</th>\n",
       "      <td>0</td>\n",
       "      <td>1</td>\n",
       "      <td>0</td>\n",
       "      <td>0</td>\n",
       "      <td>0</td>\n",
       "      <td>0</td>\n",
       "      <td>0</td>\n",
       "      <td>0</td>\n",
       "      <td>0</td>\n",
       "      <td>0</td>\n",
       "      <td>0</td>\n",
       "      <td>0</td>\n",
       "      <td>0</td>\n",
       "    </tr>\n",
       "    <tr>\n",
       "      <th>32480602</th>\n",
       "      <td>1</td>\n",
       "      <td>1</td>\n",
       "      <td>0</td>\n",
       "      <td>0</td>\n",
       "      <td>0</td>\n",
       "      <td>0</td>\n",
       "      <td>0</td>\n",
       "      <td>0</td>\n",
       "      <td>0</td>\n",
       "      <td>0</td>\n",
       "      <td>0</td>\n",
       "      <td>0</td>\n",
       "      <td>0</td>\n",
       "    </tr>\n",
       "    <tr>\n",
       "      <th>40722602</th>\n",
       "      <td>1</td>\n",
       "      <td>1</td>\n",
       "      <td>0</td>\n",
       "      <td>0</td>\n",
       "      <td>0</td>\n",
       "      <td>0</td>\n",
       "      <td>0</td>\n",
       "      <td>0</td>\n",
       "      <td>0</td>\n",
       "      <td>0</td>\n",
       "      <td>0</td>\n",
       "      <td>0</td>\n",
       "      <td>0</td>\n",
       "    </tr>\n",
       "  </tbody>\n",
       "</table>\n",
       "</div>"
      ],
      "text/plain": [
       "          TOBYR  ALCYR  MRJYR  COCYR  CRKYR  HALYR  INHYR  TRQYR  STMYR   \n",
       "QUESTID2                                                                  \n",
       "76775602      0      0      0      0      0      0      0      0      0  \\\n",
       "79748602      0      1      0      0      0      0      0      0      0   \n",
       "66270602      0      1      0      0      0      0      0      0      0   \n",
       "32480602      1      1      0      0      0      0      0      0      0   \n",
       "40722602      1      1      0      0      0      0      0      0      0   \n",
       "\n",
       "          MTHYR  SEDYR  PSYYR2  CLASS  \n",
       "QUESTID2                               \n",
       "76775602      0      0       1      1  \n",
       "79748602      0      0       0      0  \n",
       "66270602      0      0       0      0  \n",
       "32480602      0      0       0      0  \n",
       "40722602      0      0       0      0  "
      ]
     },
     "execution_count": 40,
     "metadata": {},
     "output_type": "execute_result"
    }
   ],
   "source": [
    "six_otherdrug.head()"
   ]
  },
  {
   "cell_type": "markdown",
   "id": "2f9da291-dc64-43f8-930c-547798a8c8fc",
   "metadata": {},
   "source": [
    "2021 - setup data frame, create CLASS variable, select certain fields for certain studies"
   ]
  },
  {
   "cell_type": "code",
   "execution_count": 41,
   "id": "de8e34bc-d18f-46e4-9057-9888c40044aa",
   "metadata": {},
   "outputs": [],
   "source": [
    "tw1 = pd.read_table(\n",
    "    \"NSDUH_2021_Tab.txt\",\n",
    "    sep='\\t', \n",
    "    header = 0, \n",
    "    index_col = 0, \n",
    "    low_memory=False)"
   ]
  },
  {
   "cell_type": "code",
   "execution_count": 42,
   "id": "76c0322f-b8b9-4b06-a699-476296cf5b80",
   "metadata": {},
   "outputs": [],
   "source": [
    "tw1[\"CLASS\"] = tw1[\"OPIANYYR\"]"
   ]
  },
  {
   "cell_type": "code",
   "execution_count": 46,
   "id": "a1eede35-b9fd-4b19-9163-0b8b5d135af1",
   "metadata": {},
   "outputs": [],
   "source": [
    "\n",
    "drug_use2021 = [\"TOBYR\",\"ALCYR\",\"MRJYR\",\"COCYR\",\"CRKYR\",\"HALLUCYR\",\"INHALYR\",\"TRQANYYR\",\"STMANYYR\",\n",
    "            \"METHAMYR\",\"SEDANYYR\",\"PSYANYYR\",\"CLASS\"]"
   ]
  },
  {
   "cell_type": "code",
   "execution_count": 47,
   "id": "fb98d0df-7f6f-47ac-83a0-dae34b92b1fd",
   "metadata": {},
   "outputs": [],
   "source": [
    "tw1_otherdrug = tw1.loc[tw1[\"CATAG3\"]==4,drug_use2021]"
   ]
  },
  {
   "cell_type": "code",
   "execution_count": 48,
   "id": "28009765-b1de-4f80-bac7-65d2953f4640",
   "metadata": {},
   "outputs": [
    {
     "data": {
      "text/html": [
       "<div>\n",
       "<style scoped>\n",
       "    .dataframe tbody tr th:only-of-type {\n",
       "        vertical-align: middle;\n",
       "    }\n",
       "\n",
       "    .dataframe tbody tr th {\n",
       "        vertical-align: top;\n",
       "    }\n",
       "\n",
       "    .dataframe thead th {\n",
       "        text-align: right;\n",
       "    }\n",
       "</style>\n",
       "<table border=\"1\" class=\"dataframe\">\n",
       "  <thead>\n",
       "    <tr style=\"text-align: right;\">\n",
       "      <th></th>\n",
       "      <th>TOBYR</th>\n",
       "      <th>ALCYR</th>\n",
       "      <th>MRJYR</th>\n",
       "      <th>COCYR</th>\n",
       "      <th>CRKYR</th>\n",
       "      <th>HALLUCYR</th>\n",
       "      <th>INHALYR</th>\n",
       "      <th>TRQANYYR</th>\n",
       "      <th>STMANYYR</th>\n",
       "      <th>METHAMYR</th>\n",
       "      <th>SEDANYYR</th>\n",
       "      <th>PSYANYYR</th>\n",
       "      <th>CLASS</th>\n",
       "    </tr>\n",
       "    <tr>\n",
       "      <th>QUESTID2</th>\n",
       "      <th></th>\n",
       "      <th></th>\n",
       "      <th></th>\n",
       "      <th></th>\n",
       "      <th></th>\n",
       "      <th></th>\n",
       "      <th></th>\n",
       "      <th></th>\n",
       "      <th></th>\n",
       "      <th></th>\n",
       "      <th></th>\n",
       "      <th></th>\n",
       "      <th></th>\n",
       "    </tr>\n",
       "  </thead>\n",
       "  <tbody>\n",
       "    <tr>\n",
       "      <th>10002722</th>\n",
       "      <td>1</td>\n",
       "      <td>0</td>\n",
       "      <td>1</td>\n",
       "      <td>0</td>\n",
       "      <td>0</td>\n",
       "      <td>0</td>\n",
       "      <td>0</td>\n",
       "      <td>0</td>\n",
       "      <td>0</td>\n",
       "      <td>0</td>\n",
       "      <td>0</td>\n",
       "      <td>0</td>\n",
       "      <td>0</td>\n",
       "    </tr>\n",
       "    <tr>\n",
       "      <th>10004796</th>\n",
       "      <td>0</td>\n",
       "      <td>1</td>\n",
       "      <td>0</td>\n",
       "      <td>0</td>\n",
       "      <td>0</td>\n",
       "      <td>0</td>\n",
       "      <td>0</td>\n",
       "      <td>0</td>\n",
       "      <td>1</td>\n",
       "      <td>0</td>\n",
       "      <td>0</td>\n",
       "      <td>1</td>\n",
       "      <td>0</td>\n",
       "    </tr>\n",
       "    <tr>\n",
       "      <th>10007045</th>\n",
       "      <td>0</td>\n",
       "      <td>1</td>\n",
       "      <td>0</td>\n",
       "      <td>0</td>\n",
       "      <td>0</td>\n",
       "      <td>0</td>\n",
       "      <td>0</td>\n",
       "      <td>1</td>\n",
       "      <td>0</td>\n",
       "      <td>0</td>\n",
       "      <td>0</td>\n",
       "      <td>1</td>\n",
       "      <td>1</td>\n",
       "    </tr>\n",
       "    <tr>\n",
       "      <th>10008166</th>\n",
       "      <td>0</td>\n",
       "      <td>1</td>\n",
       "      <td>0</td>\n",
       "      <td>0</td>\n",
       "      <td>0</td>\n",
       "      <td>0</td>\n",
       "      <td>0</td>\n",
       "      <td>0</td>\n",
       "      <td>0</td>\n",
       "      <td>0</td>\n",
       "      <td>0</td>\n",
       "      <td>0</td>\n",
       "      <td>0</td>\n",
       "    </tr>\n",
       "    <tr>\n",
       "      <th>10009495</th>\n",
       "      <td>0</td>\n",
       "      <td>1</td>\n",
       "      <td>0</td>\n",
       "      <td>0</td>\n",
       "      <td>0</td>\n",
       "      <td>0</td>\n",
       "      <td>0</td>\n",
       "      <td>0</td>\n",
       "      <td>0</td>\n",
       "      <td>0</td>\n",
       "      <td>1</td>\n",
       "      <td>1</td>\n",
       "      <td>0</td>\n",
       "    </tr>\n",
       "  </tbody>\n",
       "</table>\n",
       "</div>"
      ],
      "text/plain": [
       "          TOBYR  ALCYR  MRJYR  COCYR  CRKYR  HALLUCYR  INHALYR  TRQANYYR   \n",
       "QUESTID2                                                                   \n",
       "10002722      1      0      1      0      0         0        0         0  \\\n",
       "10004796      0      1      0      0      0         0        0         0   \n",
       "10007045      0      1      0      0      0         0        0         1   \n",
       "10008166      0      1      0      0      0         0        0         0   \n",
       "10009495      0      1      0      0      0         0        0         0   \n",
       "\n",
       "          STMANYYR  METHAMYR  SEDANYYR  PSYANYYR  CLASS  \n",
       "QUESTID2                                                 \n",
       "10002722         0         0         0         0      0  \n",
       "10004796         1         0         0         1      0  \n",
       "10007045         0         0         0         1      1  \n",
       "10008166         0         0         0         0      0  \n",
       "10009495         0         0         1         1      0  "
      ]
     },
     "execution_count": 48,
     "metadata": {},
     "output_type": "execute_result"
    }
   ],
   "source": [
    "tw1_otherdrug.head()"
   ]
  },
  {
   "cell_type": "markdown",
   "id": "2fc7c3cf-8cdf-40fa-a3e7-6a021eacee2e",
   "metadata": {},
   "source": [
    "ANALYSIS OF 2006 DATA"
   ]
  },
  {
   "cell_type": "code",
   "execution_count": 82,
   "id": "3d4e5bf0-dd69-41f1-9cb4-98fb5ab29727",
   "metadata": {},
   "outputs": [],
   "source": [
    "six_pop_size = len(six_otherdrug)"
   ]
  },
  {
   "cell_type": "code",
   "execution_count": 83,
   "id": "afd2ba45-bd3a-4e16-9e69-8adda7ed4add",
   "metadata": {},
   "outputs": [],
   "source": [
    "six_opium_user = len(six_otherdrug[six_otherdrug[\"CLASS\"]==1])"
   ]
  },
  {
   "cell_type": "code",
   "execution_count": 88,
   "id": "87cee756-ca61-4208-bba3-bd1040c7d784",
   "metadata": {},
   "outputs": [],
   "source": [
    "pct_drug_coinc_2006 = [\n",
    "    len(six_otherdrug[(six_otherdrug[\"CLASS\"]==1) \n",
    "        & (six_otherdrug[x]==1)])/six_opium_user \n",
    "    for x in drug_use2006[0:12]]"
   ]
  },
  {
   "cell_type": "code",
   "execution_count": 107,
   "id": "9a24e0d5-75df-417c-a149-68f5a67afb14",
   "metadata": {},
   "outputs": [
    {
     "data": {
      "image/png": "[encoded data removed]",
      "text/plain": [
       "<Figure size 640x480 with 1 Axes>"
      ]
     },
     "metadata": {},
     "output_type": "display_data"
    }
   ],
   "source": [
    "plt.barh(list(np.array(drug_use2006)[np.argsort(pct_drug_coinc_2006)]), \n",
    "         list(np.array(pct_drug_coinc_2006)[np.argsort(pct_drug_coinc_2006)]))\n",
    "plt.title(\"2006 Rate of drugs abused coincidentally with opioids\")\n",
    "plt.show()"
   ]
  },
  {
   "cell_type": "code",
   "execution_count": 119,
   "id": "f0b91107-c403-4f55-bd70-b8165f44f76f",
   "metadata": {},
   "outputs": [
    {
     "data": {
      "text/plain": [
       "0.7542074363992172"
      ]
     },
     "execution_count": 119,
     "metadata": {},
     "output_type": "execute_result"
    }
   ],
   "source": [
    "#make chart showing drug use of overall 35-49y/o population\n",
    "len(six_otherdrug[six_otherdrug[\"ALCYR\"]==1])/six_pop_size"
   ]
  },
  {
   "cell_type": "code",
   "execution_count": null,
   "id": "cbaa4db7-3a66-4711-bff9-b351ddb4ea98",
   "metadata": {},
   "outputs": [],
   "source": []
  },
  {
   "cell_type": "markdown",
   "id": "932c12ee-1ea0-40e2-ba2d-1fae0faef73d",
   "metadata": {},
   "source": [
    "Analysis of 2021 Data"
   ]
  },
  {
   "cell_type": "code",
   "execution_count": 110,
   "id": "6f08d19c-8092-4dc5-b77e-c55a34c4489e",
   "metadata": {},
   "outputs": [],
   "source": [
    "tw1_pop_size = len(tw1_otherdrug) "
   ]
  },
  {
   "cell_type": "code",
   "execution_count": 111,
   "id": "4dc7f75b-cdc7-495b-a607-35c18d44b6e5",
   "metadata": {},
   "outputs": [],
   "source": [
    "tw1_opium_user = len(tw1_otherdrug[tw1_otherdrug[\"CLASS\"]==1])"
   ]
  },
  {
   "cell_type": "code",
   "execution_count": 112,
   "id": "d7bab37a-9b21-4e1f-aade-5a1531dc09fc",
   "metadata": {},
   "outputs": [],
   "source": [
    "pct_drug_coinc_2021 = [\n",
    "    len(tw1_otherdrug[(tw1_otherdrug[\"CLASS\"]==1) \n",
    "        & (tw1_otherdrug[x]==1)])/tw1_opium_user \n",
    "    for x in drug_use2021[0:12]]"
   ]
  },
  {
   "cell_type": "code",
   "execution_count": 113,
   "id": "a252929c-dc09-432b-9ddc-f4f20d90fe2f",
   "metadata": {},
   "outputs": [
    {
     "data": {
      "image/png": "[encoded data removed]",
      "text/plain": [
       "<Figure size 640x480 with 1 Axes>"
      ]
     },
     "metadata": {},
     "output_type": "display_data"
    }
   ],
   "source": [
    "plt.barh(list(np.array(drug_use2021)[np.argsort(pct_drug_coinc_2021)]), \n",
    "         list(np.array(pct_drug_coinc_2021)[np.argsort(pct_drug_coinc_2021)]))\n",
    "plt.title(\"2021 Rate of drugs abused coincidentally with opioids\")\n",
    "plt.show()"
   ]
  },
  {
   "cell_type": "code",
   "execution_count": 127,
   "id": "7036a24a-b448-49ed-93a1-814813de9e0d",
   "metadata": {},
   "outputs": [],
   "source": [
    "pct_druguse_overall_2021 = [\n",
    "    len(tw1_otherdrug[(tw1_otherdrug[x]==1)])/tw1_pop_size \n",
    "    for x in drug_use2021]"
   ]
  },
  {
   "cell_type": "code",
   "execution_count": 129,
   "id": "4ef74f33-d2d2-4a8f-b6a5-24e334371ada",
   "metadata": {},
   "outputs": [
    {
     "data": {
      "image/png": "[encoded data removed]",
      "text/plain": [
       "<Figure size 640x480 with 1 Axes>"
      ]
     },
     "metadata": {},
     "output_type": "display_data"
    }
   ],
   "source": [
    "plt.barh(list(np.array(drug_use2021)[np.argsort(pct_druguse_overall_2021)]), \n",
    "         list(np.array(pct_druguse_overall_2021)[np.argsort(pct_druguse_overall_2021)]))\n",
    "plt.title(\"2021 Rate of drugs abuse in 35-49 y/o\")\n",
    "plt.show()"
   ]
  },
  {
   "cell_type": "code",
   "execution_count": null,
   "id": "6f11097b-8b4b-4e8e-80e4-b3488b7e17c9",
   "metadata": {},
   "outputs": [],
   "source": []
  }
 ],
 "metadata": {
  "kernelspec": {
   "display_name": "Python 3 (ipykernel)",
   "language": "python",
   "name": "python3"
  },
  "language_info": {
   "codemirror_mode": {
    "name": "ipython",
    "version": 3
   },
   "file_extension": ".py",
   "mimetype": "text/x-python",
   "name": "python",
   "nbconvert_exporter": "python",
   "pygments_lexer": "ipython3",
   "version": "3.10.6"
  }
 },
 "nbformat": 4,
 "nbformat_minor": 5
}
